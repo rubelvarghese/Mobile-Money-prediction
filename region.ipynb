{
 "cells": [
  {
   "cell_type": "code",
   "execution_count": 1,
   "metadata": {},
   "outputs": [],
   "source": [
    "\n",
    "import pandas as pd\n",
    "import numpy as np\n",
    "import seaborn as sns"
   ]
  },
  {
   "cell_type": "code",
   "execution_count": 2,
   "metadata": {},
   "outputs": [
    {
     "name": "stderr",
     "output_type": "stream",
     "text": [
      "C:\\Users\\dell\\Anaconda3\\lib\\site-packages\\IPython\\core\\interactiveshell.py:3057: DtypeWarning: Columns (26,32,33,42,74) have mixed types. Specify dtype option on import or set low_memory=False.\n",
      "  interactivity=interactivity, compiler=compiler, result=result)\n"
     ]
    }
   ],
   "source": [
    "dat1 = pd.read_csv(\"3rd_ppp_for_upload_win.csv\", encoding = \"ISO-8859-1\")\n",
    "dat2 = pd.read_csv(\"atm_for_upload_win.csv\", encoding = \"ISO-8859-1\")\n",
    "dat3 = pd.read_csv(\"banks_for_upload_win.csv\", encoding = \"ISO-8859-1\")\n",
    "dat4 = pd.read_csv(\"bus_stands_for_upload_win.csv\", encoding = \"ISO-8859-1\")\n",
    "dat5 = pd.read_csv(\"microfinance_for_upload_win.csv\", encoding = \"ISO-8859-1\")\n",
    "dat6 = pd.read_csv(\"mobilemoney_agents_for_upload_win.csv\", encoding = \"ISO-8859-1\")\n",
    "dat7 = pd.read_csv(\"pos_for_upload_win.csv\", encoding = \"ISO-8859-1\")\n",
    "dat8 = pd.read_csv(\"post_office_for_upload_win.csv\", encoding = \"ISO-8859-1\")\n",
    "dat9 = pd.read_csv(\"sacco_for_upload_win.csv\", encoding = \"ISO-8859-1\")"
   ]
  },
  {
   "cell_type": "code",
   "execution_count": 3,
   "metadata": {},
   "outputs": [],
   "source": [
    "dat1 = dat1[['region', 'district', 'ward', 'latitude', 'longitude']]\n",
    "dat2 = dat2[['region', 'district', 'ward', 'latitude', 'longitude']]\n",
    "dat3 = dat3[['region', 'district', 'ward', 'latitude', 'longitude']]\n",
    "dat4 = dat4[['region', 'district', 'ward', 'latitude', 'longitude']]\n",
    "dat5 = dat5[['region', 'district', 'ward', 'latitude', 'longitude']]\n",
    "dat6 = dat6[['region', 'district', 'ward', 'latitude', 'longitude']]\n",
    "dat7 = dat7[['region', 'district', 'ward', 'latitude', 'longitude']]\n",
    "dat8 = dat8[['region', 'district', 'ward', 'latitude', 'longitude']]\n",
    "dat9 = dat9[['region', 'district', 'ward', 'latitude', 'longitude']]"
   ]
  },
  {
   "cell_type": "code",
   "execution_count": 4,
   "metadata": {},
   "outputs": [],
   "source": [
    "data = pd.concat([dat1,dat2,dat3,dat4,dat5,dat6,dat7,dat8,dat9])"
   ]
  },
  {
   "cell_type": "code",
   "execution_count": 5,
   "metadata": {},
   "outputs": [
    {
     "data": {
      "text/html": [
       "<div>\n",
       "<style scoped>\n",
       "    .dataframe tbody tr th:only-of-type {\n",
       "        vertical-align: middle;\n",
       "    }\n",
       "\n",
       "    .dataframe tbody tr th {\n",
       "        vertical-align: top;\n",
       "    }\n",
       "\n",
       "    .dataframe thead th {\n",
       "        text-align: right;\n",
       "    }\n",
       "</style>\n",
       "<table border=\"1\" class=\"dataframe\">\n",
       "  <thead>\n",
       "    <tr style=\"text-align: right;\">\n",
       "      <th></th>\n",
       "      <th>region</th>\n",
       "      <th>district</th>\n",
       "      <th>ward</th>\n",
       "      <th>latitude</th>\n",
       "      <th>longitude</th>\n",
       "    </tr>\n",
       "  </thead>\n",
       "  <tbody>\n",
       "    <tr>\n",
       "      <th>0</th>\n",
       "      <td>Mwanza</td>\n",
       "      <td>Magu</td>\n",
       "      <td>Nyanguge</td>\n",
       "      <td>-2.36921</td>\n",
       "      <td>33.57654</td>\n",
       "    </tr>\n",
       "    <tr>\n",
       "      <th>1</th>\n",
       "      <td>Mwanza</td>\n",
       "      <td>Ilemela</td>\n",
       "      <td>Nyakato</td>\n",
       "      <td>-2.53201</td>\n",
       "      <td>32.94780</td>\n",
       "    </tr>\n",
       "    <tr>\n",
       "      <th>2</th>\n",
       "      <td>Dar es Salaam</td>\n",
       "      <td>Ilala</td>\n",
       "      <td>Segerea</td>\n",
       "      <td>-6.84188</td>\n",
       "      <td>39.21102</td>\n",
       "    </tr>\n",
       "    <tr>\n",
       "      <th>3</th>\n",
       "      <td>Dar es Salaam</td>\n",
       "      <td>Kinondoni</td>\n",
       "      <td>Kijitonyama</td>\n",
       "      <td>-6.77949</td>\n",
       "      <td>39.24092</td>\n",
       "    </tr>\n",
       "    <tr>\n",
       "      <th>4</th>\n",
       "      <td>Dar es Salaam</td>\n",
       "      <td>Temeke</td>\n",
       "      <td>Kigamboni</td>\n",
       "      <td>-6.82792</td>\n",
       "      <td>39.31021</td>\n",
       "    </tr>\n",
       "  </tbody>\n",
       "</table>\n",
       "</div>"
      ],
      "text/plain": [
       "          region   district         ward  latitude  longitude\n",
       "0         Mwanza       Magu     Nyanguge  -2.36921   33.57654\n",
       "1         Mwanza    Ilemela      Nyakato  -2.53201   32.94780\n",
       "2  Dar es Salaam      Ilala      Segerea  -6.84188   39.21102\n",
       "3  Dar es Salaam  Kinondoni  Kijitonyama  -6.77949   39.24092\n",
       "4  Dar es Salaam     Temeke    Kigamboni  -6.82792   39.31021"
      ]
     },
     "execution_count": 5,
     "metadata": {},
     "output_type": "execute_result"
    }
   ],
   "source": [
    "data.head()"
   ]
  },
  {
   "cell_type": "code",
   "execution_count": 6,
   "metadata": {},
   "outputs": [
    {
     "data": {
      "text/plain": [
       "region       20\n",
       "district     19\n",
       "ward         19\n",
       "latitude      0\n",
       "longitude     0\n",
       "dtype: int64"
      ]
     },
     "execution_count": 6,
     "metadata": {},
     "output_type": "execute_result"
    }
   ],
   "source": [
    "data.isnull().sum()"
   ]
  },
  {
   "cell_type": "code",
   "execution_count": 7,
   "metadata": {},
   "outputs": [],
   "source": [
    "data.dropna(inplace = True)"
   ]
  },
  {
   "cell_type": "code",
   "execution_count": 8,
   "metadata": {},
   "outputs": [],
   "source": [
    "data.reset_index(inplace = True)"
   ]
  },
  {
   "cell_type": "code",
   "execution_count": 9,
   "metadata": {},
   "outputs": [],
   "source": [
    "data.drop(\"index\", axis = 1 ,inplace = True)"
   ]
  },
  {
   "cell_type": "code",
   "execution_count": 10,
   "metadata": {},
   "outputs": [
    {
     "data": {
      "text/html": [
       "<div>\n",
       "<style scoped>\n",
       "    .dataframe tbody tr th:only-of-type {\n",
       "        vertical-align: middle;\n",
       "    }\n",
       "\n",
       "    .dataframe tbody tr th {\n",
       "        vertical-align: top;\n",
       "    }\n",
       "\n",
       "    .dataframe thead th {\n",
       "        text-align: right;\n",
       "    }\n",
       "</style>\n",
       "<table border=\"1\" class=\"dataframe\">\n",
       "  <thead>\n",
       "    <tr style=\"text-align: right;\">\n",
       "      <th></th>\n",
       "      <th>region</th>\n",
       "      <th>district</th>\n",
       "      <th>ward</th>\n",
       "      <th>latitude</th>\n",
       "      <th>longitude</th>\n",
       "    </tr>\n",
       "  </thead>\n",
       "  <tbody>\n",
       "    <tr>\n",
       "      <th>0</th>\n",
       "      <td>Mwanza</td>\n",
       "      <td>Magu</td>\n",
       "      <td>Nyanguge</td>\n",
       "      <td>-2.36921</td>\n",
       "      <td>33.57654</td>\n",
       "    </tr>\n",
       "    <tr>\n",
       "      <th>1</th>\n",
       "      <td>Mwanza</td>\n",
       "      <td>Ilemela</td>\n",
       "      <td>Nyakato</td>\n",
       "      <td>-2.53201</td>\n",
       "      <td>32.94780</td>\n",
       "    </tr>\n",
       "    <tr>\n",
       "      <th>2</th>\n",
       "      <td>Dar es Salaam</td>\n",
       "      <td>Ilala</td>\n",
       "      <td>Segerea</td>\n",
       "      <td>-6.84188</td>\n",
       "      <td>39.21102</td>\n",
       "    </tr>\n",
       "    <tr>\n",
       "      <th>3</th>\n",
       "      <td>Dar es Salaam</td>\n",
       "      <td>Kinondoni</td>\n",
       "      <td>Kijitonyama</td>\n",
       "      <td>-6.77949</td>\n",
       "      <td>39.24092</td>\n",
       "    </tr>\n",
       "    <tr>\n",
       "      <th>4</th>\n",
       "      <td>Dar es Salaam</td>\n",
       "      <td>Temeke</td>\n",
       "      <td>Kigamboni</td>\n",
       "      <td>-6.82792</td>\n",
       "      <td>39.31021</td>\n",
       "    </tr>\n",
       "  </tbody>\n",
       "</table>\n",
       "</div>"
      ],
      "text/plain": [
       "          region   district         ward  latitude  longitude\n",
       "0         Mwanza       Magu     Nyanguge  -2.36921   33.57654\n",
       "1         Mwanza    Ilemela      Nyakato  -2.53201   32.94780\n",
       "2  Dar es Salaam      Ilala      Segerea  -6.84188   39.21102\n",
       "3  Dar es Salaam  Kinondoni  Kijitonyama  -6.77949   39.24092\n",
       "4  Dar es Salaam     Temeke    Kigamboni  -6.82792   39.31021"
      ]
     },
     "execution_count": 10,
     "metadata": {},
     "output_type": "execute_result"
    }
   ],
   "source": [
    "data.head()"
   ]
  },
  {
   "cell_type": "code",
   "execution_count": 11,
   "metadata": {},
   "outputs": [],
   "source": [
    "dataOriginal = data.copy()"
   ]
  },
  {
   "cell_type": "code",
   "execution_count": 12,
   "metadata": {},
   "outputs": [],
   "source": [
    "data['region'] = data['region'].astype('category')"
   ]
  },
  {
   "cell_type": "code",
   "execution_count": 13,
   "metadata": {},
   "outputs": [
    {
     "data": {
      "text/plain": [
       "region          22\n",
       "district       124\n",
       "ward          1383\n",
       "latitude     40399\n",
       "longitude    41000\n",
       "dtype: int64"
      ]
     },
     "execution_count": 13,
     "metadata": {},
     "output_type": "execute_result"
    }
   ],
   "source": [
    "data.nunique()"
   ]
  },
  {
   "cell_type": "code",
   "execution_count": 14,
   "metadata": {},
   "outputs": [],
   "source": [
    "data.drop_duplicates(inplace =True)\n",
    "data.reset_index(inplace = True)\n",
    "data.drop(\"index\", axis = 1 ,inplace = True)"
   ]
  },
  {
   "cell_type": "code",
   "execution_count": 15,
   "metadata": {},
   "outputs": [
    {
     "data": {
      "text/html": [
       "<div>\n",
       "<style scoped>\n",
       "    .dataframe tbody tr th:only-of-type {\n",
       "        vertical-align: middle;\n",
       "    }\n",
       "\n",
       "    .dataframe tbody tr th {\n",
       "        vertical-align: top;\n",
       "    }\n",
       "\n",
       "    .dataframe thead th {\n",
       "        text-align: right;\n",
       "    }\n",
       "</style>\n",
       "<table border=\"1\" class=\"dataframe\">\n",
       "  <thead>\n",
       "    <tr style=\"text-align: right;\">\n",
       "      <th></th>\n",
       "      <th>region</th>\n",
       "      <th>district</th>\n",
       "      <th>ward</th>\n",
       "      <th>latitude</th>\n",
       "      <th>longitude</th>\n",
       "    </tr>\n",
       "  </thead>\n",
       "  <tbody>\n",
       "    <tr>\n",
       "      <th>0</th>\n",
       "      <td>Mwanza</td>\n",
       "      <td>Magu</td>\n",
       "      <td>Nyanguge</td>\n",
       "      <td>-2.36921</td>\n",
       "      <td>33.57654</td>\n",
       "    </tr>\n",
       "    <tr>\n",
       "      <th>1</th>\n",
       "      <td>Mwanza</td>\n",
       "      <td>Ilemela</td>\n",
       "      <td>Nyakato</td>\n",
       "      <td>-2.53201</td>\n",
       "      <td>32.94780</td>\n",
       "    </tr>\n",
       "    <tr>\n",
       "      <th>2</th>\n",
       "      <td>Dar es Salaam</td>\n",
       "      <td>Ilala</td>\n",
       "      <td>Segerea</td>\n",
       "      <td>-6.84188</td>\n",
       "      <td>39.21102</td>\n",
       "    </tr>\n",
       "    <tr>\n",
       "      <th>3</th>\n",
       "      <td>Dar es Salaam</td>\n",
       "      <td>Kinondoni</td>\n",
       "      <td>Kijitonyama</td>\n",
       "      <td>-6.77949</td>\n",
       "      <td>39.24092</td>\n",
       "    </tr>\n",
       "    <tr>\n",
       "      <th>4</th>\n",
       "      <td>Dar es Salaam</td>\n",
       "      <td>Temeke</td>\n",
       "      <td>Kigamboni</td>\n",
       "      <td>-6.82792</td>\n",
       "      <td>39.31021</td>\n",
       "    </tr>\n",
       "  </tbody>\n",
       "</table>\n",
       "</div>"
      ],
      "text/plain": [
       "          region   district         ward  latitude  longitude\n",
       "0         Mwanza       Magu     Nyanguge  -2.36921   33.57654\n",
       "1         Mwanza    Ilemela      Nyakato  -2.53201   32.94780\n",
       "2  Dar es Salaam      Ilala      Segerea  -6.84188   39.21102\n",
       "3  Dar es Salaam  Kinondoni  Kijitonyama  -6.77949   39.24092\n",
       "4  Dar es Salaam     Temeke    Kigamboni  -6.82792   39.31021"
      ]
     },
     "execution_count": 15,
     "metadata": {},
     "output_type": "execute_result"
    }
   ],
   "source": [
    "data.head()"
   ]
  },
  {
   "cell_type": "code",
   "execution_count": 16,
   "metadata": {},
   "outputs": [
    {
     "data": {
      "text/html": [
       "<div>\n",
       "<style scoped>\n",
       "    .dataframe tbody tr th:only-of-type {\n",
       "        vertical-align: middle;\n",
       "    }\n",
       "\n",
       "    .dataframe tbody tr th {\n",
       "        vertical-align: top;\n",
       "    }\n",
       "\n",
       "    .dataframe thead th {\n",
       "        text-align: right;\n",
       "    }\n",
       "</style>\n",
       "<table border=\"1\" class=\"dataframe\">\n",
       "  <thead>\n",
       "    <tr style=\"text-align: right;\">\n",
       "      <th></th>\n",
       "      <th>region</th>\n",
       "      <th>district</th>\n",
       "      <th>ward</th>\n",
       "      <th>latitude</th>\n",
       "      <th>longitude</th>\n",
       "    </tr>\n",
       "  </thead>\n",
       "  <tbody>\n",
       "    <tr>\n",
       "      <th>0</th>\n",
       "      <td>Mwanza</td>\n",
       "      <td>Magu</td>\n",
       "      <td>Nyanguge</td>\n",
       "      <td>-2.36921</td>\n",
       "      <td>33.57654</td>\n",
       "    </tr>\n",
       "  </tbody>\n",
       "</table>\n",
       "</div>"
      ],
      "text/plain": [
       "   region district      ward  latitude  longitude\n",
       "0  Mwanza     Magu  Nyanguge  -2.36921   33.57654"
      ]
     },
     "execution_count": 16,
     "metadata": {},
     "output_type": "execute_result"
    }
   ],
   "source": [
    "data[data[\"latitude\"] == -2.36921]"
   ]
  },
  {
   "cell_type": "code",
   "execution_count": 17,
   "metadata": {},
   "outputs": [
    {
     "data": {
      "text/html": [
       "<div>\n",
       "<style scoped>\n",
       "    .dataframe tbody tr th:only-of-type {\n",
       "        vertical-align: middle;\n",
       "    }\n",
       "\n",
       "    .dataframe tbody tr th {\n",
       "        vertical-align: top;\n",
       "    }\n",
       "\n",
       "    .dataframe thead th {\n",
       "        text-align: right;\n",
       "    }\n",
       "</style>\n",
       "<table border=\"1\" class=\"dataframe\">\n",
       "  <thead>\n",
       "    <tr style=\"text-align: right;\">\n",
       "      <th></th>\n",
       "      <th>region</th>\n",
       "      <th>district</th>\n",
       "      <th>ward</th>\n",
       "      <th>latitude</th>\n",
       "      <th>longitude</th>\n",
       "    </tr>\n",
       "  </thead>\n",
       "  <tbody>\n",
       "    <tr>\n",
       "      <th>0</th>\n",
       "      <td>13</td>\n",
       "      <td>Magu</td>\n",
       "      <td>Nyanguge</td>\n",
       "      <td>-2.36921</td>\n",
       "      <td>33.57654</td>\n",
       "    </tr>\n",
       "    <tr>\n",
       "      <th>1</th>\n",
       "      <td>13</td>\n",
       "      <td>Ilemela</td>\n",
       "      <td>Nyakato</td>\n",
       "      <td>-2.53201</td>\n",
       "      <td>32.94780</td>\n",
       "    </tr>\n",
       "    <tr>\n",
       "      <th>2</th>\n",
       "      <td>1</td>\n",
       "      <td>Ilala</td>\n",
       "      <td>Segerea</td>\n",
       "      <td>-6.84188</td>\n",
       "      <td>39.21102</td>\n",
       "    </tr>\n",
       "    <tr>\n",
       "      <th>3</th>\n",
       "      <td>1</td>\n",
       "      <td>Kinondoni</td>\n",
       "      <td>Kijitonyama</td>\n",
       "      <td>-6.77949</td>\n",
       "      <td>39.24092</td>\n",
       "    </tr>\n",
       "    <tr>\n",
       "      <th>4</th>\n",
       "      <td>1</td>\n",
       "      <td>Temeke</td>\n",
       "      <td>Kigamboni</td>\n",
       "      <td>-6.82792</td>\n",
       "      <td>39.31021</td>\n",
       "    </tr>\n",
       "  </tbody>\n",
       "</table>\n",
       "</div>"
      ],
      "text/plain": [
       "   region   district         ward  latitude  longitude\n",
       "0      13       Magu     Nyanguge  -2.36921   33.57654\n",
       "1      13    Ilemela      Nyakato  -2.53201   32.94780\n",
       "2       1      Ilala      Segerea  -6.84188   39.21102\n",
       "3       1  Kinondoni  Kijitonyama  -6.77949   39.24092\n",
       "4       1     Temeke    Kigamboni  -6.82792   39.31021"
      ]
     },
     "execution_count": 17,
     "metadata": {},
     "output_type": "execute_result"
    }
   ],
   "source": [
    "cat_columns = data.select_dtypes(['category']).columns\n",
    "\n",
    "cat_columns\n",
    "data[cat_columns] = data[cat_columns].apply(lambda x: x.cat.codes)\n",
    "data.head()"
   ]
  },
  {
   "cell_type": "code",
   "execution_count": 18,
   "metadata": {},
   "outputs": [
    {
     "data": {
      "text/plain": [
       "22"
      ]
     },
     "execution_count": 18,
     "metadata": {},
     "output_type": "execute_result"
    }
   ],
   "source": [
    "data.region.nunique()"
   ]
  },
  {
   "cell_type": "code",
   "execution_count": 19,
   "metadata": {},
   "outputs": [],
   "source": [
    "X= data.drop([\"district\",\"region\",\"ward\"], axis =1)\n",
    "y = data['region']"
   ]
  },
  {
   "cell_type": "code",
   "execution_count": 20,
   "metadata": {},
   "outputs": [
    {
     "data": {
      "text/html": [
       "<div>\n",
       "<style scoped>\n",
       "    .dataframe tbody tr th:only-of-type {\n",
       "        vertical-align: middle;\n",
       "    }\n",
       "\n",
       "    .dataframe tbody tr th {\n",
       "        vertical-align: top;\n",
       "    }\n",
       "\n",
       "    .dataframe thead th {\n",
       "        text-align: right;\n",
       "    }\n",
       "</style>\n",
       "<table border=\"1\" class=\"dataframe\">\n",
       "  <thead>\n",
       "    <tr style=\"text-align: right;\">\n",
       "      <th></th>\n",
       "      <th>latitude</th>\n",
       "      <th>longitude</th>\n",
       "    </tr>\n",
       "  </thead>\n",
       "  <tbody>\n",
       "    <tr>\n",
       "      <th>0</th>\n",
       "      <td>-2.36921</td>\n",
       "      <td>33.57654</td>\n",
       "    </tr>\n",
       "    <tr>\n",
       "      <th>1</th>\n",
       "      <td>-2.53201</td>\n",
       "      <td>32.94780</td>\n",
       "    </tr>\n",
       "    <tr>\n",
       "      <th>2</th>\n",
       "      <td>-6.84188</td>\n",
       "      <td>39.21102</td>\n",
       "    </tr>\n",
       "    <tr>\n",
       "      <th>3</th>\n",
       "      <td>-6.77949</td>\n",
       "      <td>39.24092</td>\n",
       "    </tr>\n",
       "    <tr>\n",
       "      <th>4</th>\n",
       "      <td>-6.82792</td>\n",
       "      <td>39.31021</td>\n",
       "    </tr>\n",
       "  </tbody>\n",
       "</table>\n",
       "</div>"
      ],
      "text/plain": [
       "   latitude  longitude\n",
       "0  -2.36921   33.57654\n",
       "1  -2.53201   32.94780\n",
       "2  -6.84188   39.21102\n",
       "3  -6.77949   39.24092\n",
       "4  -6.82792   39.31021"
      ]
     },
     "execution_count": 20,
     "metadata": {},
     "output_type": "execute_result"
    }
   ],
   "source": [
    "X.head()"
   ]
  },
  {
   "cell_type": "code",
   "execution_count": 21,
   "metadata": {},
   "outputs": [
    {
     "data": {
      "text/plain": [
       "0    13\n",
       "1    13\n",
       "2     1\n",
       "3     1\n",
       "4     1\n",
       "Name: region, dtype: int8"
      ]
     },
     "execution_count": 21,
     "metadata": {},
     "output_type": "execute_result"
    }
   ],
   "source": [
    "y.head()"
   ]
  },
  {
   "cell_type": "code",
   "execution_count": 22,
   "metadata": {},
   "outputs": [],
   "source": [
    "from sklearn.model_selection import train_test_split\n",
    "X_train, X_test, y_train, y_test = train_test_split( X, y, test_size=0.3, random_state=42)"
   ]
  },
  {
   "cell_type": "code",
   "execution_count": 23,
   "metadata": {},
   "outputs": [],
   "source": [
    "from xgboost import XGBClassifier\n",
    "from sklearn.linear_model import LogisticRegression\n",
    "from sklearn.ensemble import RandomForestClassifier"
   ]
  },
  {
   "cell_type": "code",
   "execution_count": 24,
   "metadata": {},
   "outputs": [],
   "source": [
    "\n",
    "model = LogisticRegression()\n",
    "rf = RandomForestClassifier()\n",
    "xgb = XGBClassifier(max_depth=5, \n",
    "                    learning_rate=0.2, \n",
    "                    )"
   ]
  },
  {
   "cell_type": "code",
   "execution_count": 25,
   "metadata": {},
   "outputs": [
    {
     "data": {
      "text/html": [
       "<div>\n",
       "<style scoped>\n",
       "    .dataframe tbody tr th:only-of-type {\n",
       "        vertical-align: middle;\n",
       "    }\n",
       "\n",
       "    .dataframe tbody tr th {\n",
       "        vertical-align: top;\n",
       "    }\n",
       "\n",
       "    .dataframe thead th {\n",
       "        text-align: right;\n",
       "    }\n",
       "</style>\n",
       "<table border=\"1\" class=\"dataframe\">\n",
       "  <thead>\n",
       "    <tr style=\"text-align: right;\">\n",
       "      <th></th>\n",
       "      <th>latitude</th>\n",
       "      <th>longitude</th>\n",
       "    </tr>\n",
       "  </thead>\n",
       "  <tbody>\n",
       "    <tr>\n",
       "      <th>49627</th>\n",
       "      <td>-6.80937</td>\n",
       "      <td>37.69184</td>\n",
       "    </tr>\n",
       "    <tr>\n",
       "      <th>39556</th>\n",
       "      <td>-3.82783</td>\n",
       "      <td>32.59622</td>\n",
       "    </tr>\n",
       "    <tr>\n",
       "      <th>11248</th>\n",
       "      <td>-4.18991</td>\n",
       "      <td>35.02281</td>\n",
       "    </tr>\n",
       "    <tr>\n",
       "      <th>27827</th>\n",
       "      <td>-6.76761</td>\n",
       "      <td>39.21725</td>\n",
       "    </tr>\n",
       "    <tr>\n",
       "      <th>10709</th>\n",
       "      <td>-7.36417</td>\n",
       "      <td>39.06662</td>\n",
       "    </tr>\n",
       "  </tbody>\n",
       "</table>\n",
       "</div>"
      ],
      "text/plain": [
       "       latitude  longitude\n",
       "49627  -6.80937   37.69184\n",
       "39556  -3.82783   32.59622\n",
       "11248  -4.18991   35.02281\n",
       "27827  -6.76761   39.21725\n",
       "10709  -7.36417   39.06662"
      ]
     },
     "execution_count": 25,
     "metadata": {},
     "output_type": "execute_result"
    }
   ],
   "source": [
    "X_train.head()"
   ]
  },
  {
   "cell_type": "code",
   "execution_count": 26,
   "metadata": {},
   "outputs": [
    {
     "data": {
      "text/plain": [
       "49627    11\n",
       "39556    17\n",
       "11248     8\n",
       "27827     1\n",
       "10709    14\n",
       "Name: region, dtype: int8"
      ]
     },
     "execution_count": 26,
     "metadata": {},
     "output_type": "execute_result"
    }
   ],
   "source": [
    "y_train.head()"
   ]
  },
  {
   "cell_type": "code",
   "execution_count": 27,
   "metadata": {},
   "outputs": [],
   "source": [
    "model1=xgb.fit(X_train,y_train)"
   ]
  },
  {
   "cell_type": "code",
   "execution_count": 30,
   "metadata": {},
   "outputs": [],
   "source": [
    "model2=rf.fit(X_train,y_train)"
   ]
  },
  {
   "cell_type": "code",
   "execution_count": 31,
   "metadata": {},
   "outputs": [
    {
     "data": {
      "text/plain": [
       "array([ 1,  1,  1, ...,  1, 20,  0], dtype=int8)"
      ]
     },
     "execution_count": 31,
     "metadata": {},
     "output_type": "execute_result"
    }
   ],
   "source": [
    "model1.predict(X_test)"
   ]
  },
  {
   "cell_type": "code",
   "execution_count": 32,
   "metadata": {},
   "outputs": [],
   "source": [
    "from sklearn.metrics import accuracy_score"
   ]
  },
  {
   "cell_type": "code",
   "execution_count": 33,
   "metadata": {},
   "outputs": [
    {
     "data": {
      "text/plain": [
       "0.9884213667561922"
      ]
     },
     "execution_count": 33,
     "metadata": {},
     "output_type": "execute_result"
    }
   ],
   "source": [
    "accuracy_score(model1.predict(X_test),y_test)"
   ]
  },
  {
   "cell_type": "code",
   "execution_count": 34,
   "metadata": {},
   "outputs": [
    {
     "data": {
      "text/plain": [
       "0.9888391524917935"
      ]
     },
     "execution_count": 34,
     "metadata": {},
     "output_type": "execute_result"
    }
   ],
   "source": [
    "accuracy_score(rf.predict(X_test),y_test)"
   ]
  },
  {
   "cell_type": "code",
   "execution_count": 35,
   "metadata": {},
   "outputs": [
    {
     "data": {
      "text/html": [
       "<div>\n",
       "<style scoped>\n",
       "    .dataframe tbody tr th:only-of-type {\n",
       "        vertical-align: middle;\n",
       "    }\n",
       "\n",
       "    .dataframe tbody tr th {\n",
       "        vertical-align: top;\n",
       "    }\n",
       "\n",
       "    .dataframe thead th {\n",
       "        text-align: right;\n",
       "    }\n",
       "</style>\n",
       "<table border=\"1\" class=\"dataframe\">\n",
       "  <thead>\n",
       "    <tr style=\"text-align: right;\">\n",
       "      <th></th>\n",
       "      <th>region</th>\n",
       "      <th>district</th>\n",
       "      <th>ward</th>\n",
       "      <th>latitude</th>\n",
       "      <th>longitude</th>\n",
       "    </tr>\n",
       "  </thead>\n",
       "  <tbody>\n",
       "    <tr>\n",
       "      <th>0</th>\n",
       "      <td>Mwanza</td>\n",
       "      <td>Magu</td>\n",
       "      <td>Nyanguge</td>\n",
       "      <td>-2.36921</td>\n",
       "      <td>33.57654</td>\n",
       "    </tr>\n",
       "    <tr>\n",
       "      <th>1</th>\n",
       "      <td>Mwanza</td>\n",
       "      <td>Ilemela</td>\n",
       "      <td>Nyakato</td>\n",
       "      <td>-2.53201</td>\n",
       "      <td>32.94780</td>\n",
       "    </tr>\n",
       "    <tr>\n",
       "      <th>2</th>\n",
       "      <td>Dar es Salaam</td>\n",
       "      <td>Ilala</td>\n",
       "      <td>Segerea</td>\n",
       "      <td>-6.84188</td>\n",
       "      <td>39.21102</td>\n",
       "    </tr>\n",
       "    <tr>\n",
       "      <th>3</th>\n",
       "      <td>Dar es Salaam</td>\n",
       "      <td>Kinondoni</td>\n",
       "      <td>Kijitonyama</td>\n",
       "      <td>-6.77949</td>\n",
       "      <td>39.24092</td>\n",
       "    </tr>\n",
       "    <tr>\n",
       "      <th>4</th>\n",
       "      <td>Dar es Salaam</td>\n",
       "      <td>Temeke</td>\n",
       "      <td>Kigamboni</td>\n",
       "      <td>-6.82792</td>\n",
       "      <td>39.31021</td>\n",
       "    </tr>\n",
       "  </tbody>\n",
       "</table>\n",
       "</div>"
      ],
      "text/plain": [
       "          region   district         ward  latitude  longitude\n",
       "0         Mwanza       Magu     Nyanguge  -2.36921   33.57654\n",
       "1         Mwanza    Ilemela      Nyakato  -2.53201   32.94780\n",
       "2  Dar es Salaam      Ilala      Segerea  -6.84188   39.21102\n",
       "3  Dar es Salaam  Kinondoni  Kijitonyama  -6.77949   39.24092\n",
       "4  Dar es Salaam     Temeke    Kigamboni  -6.82792   39.31021"
      ]
     },
     "execution_count": 35,
     "metadata": {},
     "output_type": "execute_result"
    }
   ],
   "source": [
    "dataOriginal.head()"
   ]
  },
  {
   "cell_type": "code",
   "execution_count": 36,
   "metadata": {},
   "outputs": [
    {
     "data": {
      "text/html": [
       "<div>\n",
       "<style scoped>\n",
       "    .dataframe tbody tr th:only-of-type {\n",
       "        vertical-align: middle;\n",
       "    }\n",
       "\n",
       "    .dataframe tbody tr th {\n",
       "        vertical-align: top;\n",
       "    }\n",
       "\n",
       "    .dataframe thead th {\n",
       "        text-align: right;\n",
       "    }\n",
       "</style>\n",
       "<table border=\"1\" class=\"dataframe\">\n",
       "  <thead>\n",
       "    <tr style=\"text-align: right;\">\n",
       "      <th></th>\n",
       "      <th>region</th>\n",
       "      <th>district</th>\n",
       "      <th>ward</th>\n",
       "      <th>latitude</th>\n",
       "      <th>longitude</th>\n",
       "    </tr>\n",
       "  </thead>\n",
       "  <tbody>\n",
       "    <tr>\n",
       "      <th>0</th>\n",
       "      <td>13</td>\n",
       "      <td>Magu</td>\n",
       "      <td>Nyanguge</td>\n",
       "      <td>-2.36921</td>\n",
       "      <td>33.57654</td>\n",
       "    </tr>\n",
       "    <tr>\n",
       "      <th>1</th>\n",
       "      <td>13</td>\n",
       "      <td>Ilemela</td>\n",
       "      <td>Nyakato</td>\n",
       "      <td>-2.53201</td>\n",
       "      <td>32.94780</td>\n",
       "    </tr>\n",
       "    <tr>\n",
       "      <th>2</th>\n",
       "      <td>1</td>\n",
       "      <td>Ilala</td>\n",
       "      <td>Segerea</td>\n",
       "      <td>-6.84188</td>\n",
       "      <td>39.21102</td>\n",
       "    </tr>\n",
       "    <tr>\n",
       "      <th>3</th>\n",
       "      <td>1</td>\n",
       "      <td>Kinondoni</td>\n",
       "      <td>Kijitonyama</td>\n",
       "      <td>-6.77949</td>\n",
       "      <td>39.24092</td>\n",
       "    </tr>\n",
       "    <tr>\n",
       "      <th>4</th>\n",
       "      <td>1</td>\n",
       "      <td>Temeke</td>\n",
       "      <td>Kigamboni</td>\n",
       "      <td>-6.82792</td>\n",
       "      <td>39.31021</td>\n",
       "    </tr>\n",
       "  </tbody>\n",
       "</table>\n",
       "</div>"
      ],
      "text/plain": [
       "   region   district         ward  latitude  longitude\n",
       "0      13       Magu     Nyanguge  -2.36921   33.57654\n",
       "1      13    Ilemela      Nyakato  -2.53201   32.94780\n",
       "2       1      Ilala      Segerea  -6.84188   39.21102\n",
       "3       1  Kinondoni  Kijitonyama  -6.77949   39.24092\n",
       "4       1     Temeke    Kigamboni  -6.82792   39.31021"
      ]
     },
     "execution_count": 36,
     "metadata": {},
     "output_type": "execute_result"
    }
   ],
   "source": [
    "dataOriginal.head()\n",
    "dataOriginal[dataOriginal['region']=='Mwanza']\n",
    "\n",
    "\n",
    "\n",
    "dataOriginal['region'] = dataOriginal['region'].astype('category')\n",
    "\n",
    "dataOriginal.drop_duplicates(inplace =True)\n",
    "dataOriginal.reset_index(inplace = True)\n",
    "dataOriginal.drop(\"index\", axis = 1 ,inplace = True)\n",
    "dist = dataOriginal[\"region\"]\n",
    "cat_columns = dataOriginal.select_dtypes(['category']).columns\n",
    "\n",
    "cat_columns\n",
    "dataOriginal[cat_columns] = dataOriginal[cat_columns].apply(lambda x: x.cat.codes)\n",
    "dataOriginal.head()"
   ]
  },
  {
   "cell_type": "code",
   "execution_count": 37,
   "metadata": {},
   "outputs": [],
   "source": [
    "worked_out = pd.concat([dataOriginal[\"region\"],dist],axis =1)"
   ]
  },
  {
   "cell_type": "code",
   "execution_count": 38,
   "metadata": {},
   "outputs": [
    {
     "data": {
      "text/plain": [
       "0               Mwanza\n",
       "1               Mwanza\n",
       "2        Dar es Salaam\n",
       "3        Dar es Salaam\n",
       "4        Dar es Salaam\n",
       "5        Dar es Salaam\n",
       "6        Dar es Salaam\n",
       "7        Dar es Salaam\n",
       "8        Dar es Salaam\n",
       "9        Dar es Salaam\n",
       "10              Arusha\n",
       "11               Pwani\n",
       "12       Dar es Salaam\n",
       "13              Tabora\n",
       "14       Dar es Salaam\n",
       "15       Dar es Salaam\n",
       "16       Dar es Salaam\n",
       "17               Lindi\n",
       "18       Dar es Salaam\n",
       "19               Lindi\n",
       "20       Dar es Salaam\n",
       "21       Dar es Salaam\n",
       "22       Dar es Salaam\n",
       "23       Dar es Salaam\n",
       "24       Dar es Salaam\n",
       "25               Lindi\n",
       "26       Dar es Salaam\n",
       "27       Dar es Salaam\n",
       "28       Dar es Salaam\n",
       "29       Dar es Salaam\n",
       "             ...      \n",
       "55820            Mbeya\n",
       "55821            Mbeya\n",
       "55822            Mbeya\n",
       "55823      Kilimanjaro\n",
       "55824        Shinyanga\n",
       "55825          Manyara\n",
       "55826      Kilimanjaro\n",
       "55827           Tabora\n",
       "55828           Tabora\n",
       "55829    Dar es Salaam\n",
       "55830           Tabora\n",
       "55831            Mbeya\n",
       "55832           Tabora\n",
       "55833      Kilimanjaro\n",
       "55834           Arusha\n",
       "55835           Tabora\n",
       "55836           Tabora\n",
       "55837           Arusha\n",
       "55838           Arusha\n",
       "55839           Tabora\n",
       "55840           Tabora\n",
       "55841          Manyara\n",
       "55842           Dodoma\n",
       "55843      Kilimanjaro\n",
       "55844      Kilimanjaro\n",
       "55845      Kilimanjaro\n",
       "55846           Tabora\n",
       "55847             Mara\n",
       "55848           Ruvuma\n",
       "55849           Tabora\n",
       "Name: region, Length: 55850, dtype: category\n",
       "Categories (22, object): [Arusha, Dar es Salaam, Dodoma, Iringa, ..., Singida, Tabora, Tanga, Zanzibar]"
      ]
     },
     "execution_count": 38,
     "metadata": {},
     "output_type": "execute_result"
    }
   ],
   "source": [
    "dist"
   ]
  },
  {
   "cell_type": "code",
   "execution_count": 39,
   "metadata": {},
   "outputs": [],
   "source": [
    "worked_out.columns = [\"region\",'main']"
   ]
  },
  {
   "cell_type": "code",
   "execution_count": 40,
   "metadata": {},
   "outputs": [],
   "source": [
    "train = pd.read_csv(\"disttrain.csv\")"
   ]
  },
  {
   "cell_type": "code",
   "execution_count": 41,
   "metadata": {},
   "outputs": [],
   "source": [
    "test = pd.read_csv(\"disttest.csv\")"
   ]
  },
  {
   "cell_type": "code",
   "execution_count": 42,
   "metadata": {},
   "outputs": [
    {
     "data": {
      "text/html": [
       "<div>\n",
       "<style scoped>\n",
       "    .dataframe tbody tr th:only-of-type {\n",
       "        vertical-align: middle;\n",
       "    }\n",
       "\n",
       "    .dataframe tbody tr th {\n",
       "        vertical-align: top;\n",
       "    }\n",
       "\n",
       "    .dataframe thead th {\n",
       "        text-align: right;\n",
       "    }\n",
       "</style>\n",
       "<table border=\"1\" class=\"dataframe\">\n",
       "  <thead>\n",
       "    <tr style=\"text-align: right;\">\n",
       "      <th></th>\n",
       "      <th>ID</th>\n",
       "      <th>Q1</th>\n",
       "      <th>Q2</th>\n",
       "      <th>Q3</th>\n",
       "      <th>Q4</th>\n",
       "      <th>Q5</th>\n",
       "      <th>Q6</th>\n",
       "      <th>Q7</th>\n",
       "      <th>Q8_1</th>\n",
       "      <th>Q8_2</th>\n",
       "      <th>...</th>\n",
       "      <th>Q18</th>\n",
       "      <th>Q19</th>\n",
       "      <th>Latitude</th>\n",
       "      <th>Longitude</th>\n",
       "      <th>mobile_money</th>\n",
       "      <th>savings</th>\n",
       "      <th>borrowing</th>\n",
       "      <th>insurance</th>\n",
       "      <th>mobile_money_classification</th>\n",
       "      <th>district</th>\n",
       "    </tr>\n",
       "  </thead>\n",
       "  <tbody>\n",
       "    <tr>\n",
       "      <th>0</th>\n",
       "      <td>5086</td>\n",
       "      <td>98</td>\n",
       "      <td>2</td>\n",
       "      <td>3</td>\n",
       "      <td>1</td>\n",
       "      <td>1</td>\n",
       "      <td>2</td>\n",
       "      <td>2</td>\n",
       "      <td>0</td>\n",
       "      <td>0</td>\n",
       "      <td>...</td>\n",
       "      <td>4</td>\n",
       "      <td>4</td>\n",
       "      <td>-4.460442</td>\n",
       "      <td>29.811396</td>\n",
       "      <td>0</td>\n",
       "      <td>0</td>\n",
       "      <td>0</td>\n",
       "      <td>0</td>\n",
       "      <td>0</td>\n",
       "      <td>Kasulu</td>\n",
       "    </tr>\n",
       "    <tr>\n",
       "      <th>1</th>\n",
       "      <td>1258</td>\n",
       "      <td>40</td>\n",
       "      <td>1</td>\n",
       "      <td>1</td>\n",
       "      <td>3</td>\n",
       "      <td>5</td>\n",
       "      <td>1</td>\n",
       "      <td>1</td>\n",
       "      <td>1</td>\n",
       "      <td>0</td>\n",
       "      <td>...</td>\n",
       "      <td>1</td>\n",
       "      <td>4</td>\n",
       "      <td>-6.176438</td>\n",
       "      <td>39.244871</td>\n",
       "      <td>1</td>\n",
       "      <td>1</td>\n",
       "      <td>1</td>\n",
       "      <td>0</td>\n",
       "      <td>3</td>\n",
       "      <td>Zanzibar</td>\n",
       "    </tr>\n",
       "    <tr>\n",
       "      <th>2</th>\n",
       "      <td>331</td>\n",
       "      <td>18</td>\n",
       "      <td>2</td>\n",
       "      <td>4</td>\n",
       "      <td>6</td>\n",
       "      <td>3</td>\n",
       "      <td>2</td>\n",
       "      <td>1</td>\n",
       "      <td>0</td>\n",
       "      <td>0</td>\n",
       "      <td>...</td>\n",
       "      <td>1</td>\n",
       "      <td>1</td>\n",
       "      <td>-6.825702</td>\n",
       "      <td>37.652798</td>\n",
       "      <td>1</td>\n",
       "      <td>0</td>\n",
       "      <td>0</td>\n",
       "      <td>0</td>\n",
       "      <td>2</td>\n",
       "      <td>Morogoro Urban</td>\n",
       "    </tr>\n",
       "    <tr>\n",
       "      <th>3</th>\n",
       "      <td>6729</td>\n",
       "      <td>50</td>\n",
       "      <td>1</td>\n",
       "      <td>1</td>\n",
       "      <td>3</td>\n",
       "      <td>1</td>\n",
       "      <td>1</td>\n",
       "      <td>1</td>\n",
       "      <td>0</td>\n",
       "      <td>0</td>\n",
       "      <td>...</td>\n",
       "      <td>1</td>\n",
       "      <td>4</td>\n",
       "      <td>-3.372049</td>\n",
       "      <td>35.808307</td>\n",
       "      <td>1</td>\n",
       "      <td>0</td>\n",
       "      <td>1</td>\n",
       "      <td>0</td>\n",
       "      <td>3</td>\n",
       "      <td>Karatu</td>\n",
       "    </tr>\n",
       "    <tr>\n",
       "      <th>4</th>\n",
       "      <td>8671</td>\n",
       "      <td>34</td>\n",
       "      <td>1</td>\n",
       "      <td>1</td>\n",
       "      <td>1</td>\n",
       "      <td>1</td>\n",
       "      <td>2</td>\n",
       "      <td>1</td>\n",
       "      <td>0</td>\n",
       "      <td>1</td>\n",
       "      <td>...</td>\n",
       "      <td>1</td>\n",
       "      <td>4</td>\n",
       "      <td>-7.179645</td>\n",
       "      <td>31.039095</td>\n",
       "      <td>1</td>\n",
       "      <td>1</td>\n",
       "      <td>0</td>\n",
       "      <td>1</td>\n",
       "      <td>3</td>\n",
       "      <td>Mpanda</td>\n",
       "    </tr>\n",
       "  </tbody>\n",
       "</table>\n",
       "<p>5 rows × 38 columns</p>\n",
       "</div>"
      ],
      "text/plain": [
       "     ID  Q1  Q2  Q3  Q4  Q5  Q6  Q7  Q8_1  Q8_2  ...  Q18  Q19  Latitude  \\\n",
       "0  5086  98   2   3   1   1   2   2     0     0  ...    4    4 -4.460442   \n",
       "1  1258  40   1   1   3   5   1   1     1     0  ...    1    4 -6.176438   \n",
       "2   331  18   2   4   6   3   2   1     0     0  ...    1    1 -6.825702   \n",
       "3  6729  50   1   1   3   1   1   1     0     0  ...    1    4 -3.372049   \n",
       "4  8671  34   1   1   1   1   2   1     0     1  ...    1    4 -7.179645   \n",
       "\n",
       "   Longitude  mobile_money  savings  borrowing  insurance  \\\n",
       "0  29.811396             0        0          0          0   \n",
       "1  39.244871             1        1          1          0   \n",
       "2  37.652798             1        0          0          0   \n",
       "3  35.808307             1        0          1          0   \n",
       "4  31.039095             1        1          0          1   \n",
       "\n",
       "   mobile_money_classification        district  \n",
       "0                            0          Kasulu  \n",
       "1                            3        Zanzibar  \n",
       "2                            2  Morogoro Urban  \n",
       "3                            3          Karatu  \n",
       "4                            3          Mpanda  \n",
       "\n",
       "[5 rows x 38 columns]"
      ]
     },
     "execution_count": 42,
     "metadata": {},
     "output_type": "execute_result"
    }
   ],
   "source": [
    "train.head()"
   ]
  },
  {
   "cell_type": "code",
   "execution_count": 43,
   "metadata": {},
   "outputs": [],
   "source": [
    "train = train[['Latitude','Longitude']]\n",
    "test = test[['Latitude','Longitude']]\n",
    "train.columns = ['latitude', 'longitude']\n",
    "test.columns  = ['latitude', 'longitude']"
   ]
  },
  {
   "cell_type": "code",
   "execution_count": 53,
   "metadata": {},
   "outputs": [],
   "source": [
    "train_region = xgb.predict(train)"
   ]
  },
  {
   "cell_type": "code",
   "execution_count": 54,
   "metadata": {},
   "outputs": [],
   "source": [
    "test_region = xgb.predict(test)"
   ]
  },
  {
   "cell_type": "code",
   "execution_count": 55,
   "metadata": {},
   "outputs": [],
   "source": [
    "trainpred = pd.DataFrame(train_region,columns=[\"region\"])"
   ]
  },
  {
   "cell_type": "code",
   "execution_count": 56,
   "metadata": {},
   "outputs": [],
   "source": [
    "testpred = pd.DataFrame(test_region,columns=[\"region\"])"
   ]
  },
  {
   "cell_type": "code",
   "execution_count": 57,
   "metadata": {},
   "outputs": [
    {
     "data": {
      "text/plain": [
       "{13: 'Mwanza',\n",
       " 1: 'Dar es Salaam',\n",
       " 0: 'Arusha',\n",
       " 14: 'Pwani',\n",
       " 19: 'Tabora',\n",
       " 7: 'Lindi',\n",
       " 18: 'Singida',\n",
       " 6: 'Kilimanjaro',\n",
       " 2: 'Dodoma',\n",
       " 11: 'Morogoro',\n",
       " 3: 'Iringa',\n",
       " 8: 'Manyara',\n",
       " 12: 'Mtwara',\n",
       " 20: 'Tanga',\n",
       " 10: 'Mbeya',\n",
       " 5: 'Kigoma',\n",
       " 17: 'Shinyanga',\n",
       " 9: 'Mara',\n",
       " 16: 'Ruvuma',\n",
       " 4: 'Kagera',\n",
       " 21: 'Zanzibar',\n",
       " 15: 'Rukwa'}"
      ]
     },
     "execution_count": 57,
     "metadata": {},
     "output_type": "execute_result"
    }
   ],
   "source": [
    "dick = dict(zip(worked_out.region, worked_out.main))\n",
    "dick"
   ]
  },
  {
   "cell_type": "code",
   "execution_count": 58,
   "metadata": {},
   "outputs": [],
   "source": [
    "trainpred = trainpred.replace({\"region\": dick})"
   ]
  },
  {
   "cell_type": "code",
   "execution_count": 59,
   "metadata": {},
   "outputs": [],
   "source": [
    "testpred = testpred.replace({\"region\": dick})"
   ]
  },
  {
   "cell_type": "code",
   "execution_count": 60,
   "metadata": {},
   "outputs": [
    {
     "data": {
      "text/html": [
       "<div>\n",
       "<style scoped>\n",
       "    .dataframe tbody tr th:only-of-type {\n",
       "        vertical-align: middle;\n",
       "    }\n",
       "\n",
       "    .dataframe tbody tr th {\n",
       "        vertical-align: top;\n",
       "    }\n",
       "\n",
       "    .dataframe thead th {\n",
       "        text-align: right;\n",
       "    }\n",
       "</style>\n",
       "<table border=\"1\" class=\"dataframe\">\n",
       "  <thead>\n",
       "    <tr style=\"text-align: right;\">\n",
       "      <th></th>\n",
       "      <th>region</th>\n",
       "    </tr>\n",
       "  </thead>\n",
       "  <tbody>\n",
       "    <tr>\n",
       "      <th>0</th>\n",
       "      <td>Kigoma</td>\n",
       "    </tr>\n",
       "    <tr>\n",
       "      <th>1</th>\n",
       "      <td>Zanzibar</td>\n",
       "    </tr>\n",
       "    <tr>\n",
       "      <th>2</th>\n",
       "      <td>Morogoro</td>\n",
       "    </tr>\n",
       "    <tr>\n",
       "      <th>3</th>\n",
       "      <td>Arusha</td>\n",
       "    </tr>\n",
       "    <tr>\n",
       "      <th>4</th>\n",
       "      <td>Rukwa</td>\n",
       "    </tr>\n",
       "  </tbody>\n",
       "</table>\n",
       "</div>"
      ],
      "text/plain": [
       "     region\n",
       "0    Kigoma\n",
       "1  Zanzibar\n",
       "2  Morogoro\n",
       "3    Arusha\n",
       "4     Rukwa"
      ]
     },
     "execution_count": 60,
     "metadata": {},
     "output_type": "execute_result"
    }
   ],
   "source": [
    "trainpred.head()"
   ]
  },
  {
   "cell_type": "code",
   "execution_count": 61,
   "metadata": {},
   "outputs": [
    {
     "data": {
      "text/plain": [
       "0              Mwanza\n",
       "1                Mara\n",
       "2              Kagera\n",
       "3                Mara\n",
       "4              Iringa\n",
       "5             Singida\n",
       "6              Iringa\n",
       "7              Mwanza\n",
       "8            Zanzibar\n",
       "9             Singida\n",
       "10               Mara\n",
       "11             Kigoma\n",
       "12              Rukwa\n",
       "13               Mara\n",
       "14              Rukwa\n",
       "15      Dar es Salaam\n",
       "16              Rukwa\n",
       "17            Singida\n",
       "18             Mwanza\n",
       "19              Rukwa\n",
       "20        Kilimanjaro\n",
       "21              Mbeya\n",
       "22             Tabora\n",
       "23        Kilimanjaro\n",
       "24             Mwanza\n",
       "25        Kilimanjaro\n",
       "26              Mbeya\n",
       "27              Mbeya\n",
       "28             Kagera\n",
       "29               Mara\n",
       "            ...      \n",
       "2335           Kagera\n",
       "2336      Kilimanjaro\n",
       "2337           Arusha\n",
       "2338         Zanzibar\n",
       "2339         Zanzibar\n",
       "2340         Zanzibar\n",
       "2341            Pwani\n",
       "2342        Shinyanga\n",
       "2343            Tanga\n",
       "2344            Tanga\n",
       "2345           Kigoma\n",
       "2346         Zanzibar\n",
       "2347           Mwanza\n",
       "2348          Singida\n",
       "2349          Singida\n",
       "2350        Shinyanga\n",
       "2351           Mwanza\n",
       "2352        Shinyanga\n",
       "2353           Mwanza\n",
       "2354            Mbeya\n",
       "2355            Rukwa\n",
       "2356           Mwanza\n",
       "2357        Shinyanga\n",
       "2358            Mbeya\n",
       "2359           Mwanza\n",
       "2360           Mwanza\n",
       "2361        Shinyanga\n",
       "2362        Shinyanga\n",
       "2363             Mara\n",
       "2364           Mwanza\n",
       "Name: region, Length: 2365, dtype: object"
      ]
     },
     "execution_count": 61,
     "metadata": {},
     "output_type": "execute_result"
    }
   ],
   "source": [
    "testpred['region']"
   ]
  },
  {
   "cell_type": "code",
   "execution_count": 62,
   "metadata": {},
   "outputs": [],
   "source": [
    "train=pd.read_csv('disttrain.csv')"
   ]
  },
  {
   "cell_type": "code",
   "execution_count": 63,
   "metadata": {},
   "outputs": [
    {
     "data": {
      "text/html": [
       "<div>\n",
       "<style scoped>\n",
       "    .dataframe tbody tr th:only-of-type {\n",
       "        vertical-align: middle;\n",
       "    }\n",
       "\n",
       "    .dataframe tbody tr th {\n",
       "        vertical-align: top;\n",
       "    }\n",
       "\n",
       "    .dataframe thead th {\n",
       "        text-align: right;\n",
       "    }\n",
       "</style>\n",
       "<table border=\"1\" class=\"dataframe\">\n",
       "  <thead>\n",
       "    <tr style=\"text-align: right;\">\n",
       "      <th></th>\n",
       "      <th>ID</th>\n",
       "      <th>Q1</th>\n",
       "      <th>Q2</th>\n",
       "      <th>Q3</th>\n",
       "      <th>Q4</th>\n",
       "      <th>Q5</th>\n",
       "      <th>Q6</th>\n",
       "      <th>Q7</th>\n",
       "      <th>Q8_1</th>\n",
       "      <th>Q8_2</th>\n",
       "      <th>...</th>\n",
       "      <th>Q18</th>\n",
       "      <th>Q19</th>\n",
       "      <th>Latitude</th>\n",
       "      <th>Longitude</th>\n",
       "      <th>mobile_money</th>\n",
       "      <th>savings</th>\n",
       "      <th>borrowing</th>\n",
       "      <th>insurance</th>\n",
       "      <th>mobile_money_classification</th>\n",
       "      <th>district</th>\n",
       "    </tr>\n",
       "  </thead>\n",
       "  <tbody>\n",
       "    <tr>\n",
       "      <th>0</th>\n",
       "      <td>5086</td>\n",
       "      <td>98</td>\n",
       "      <td>2</td>\n",
       "      <td>3</td>\n",
       "      <td>1</td>\n",
       "      <td>1</td>\n",
       "      <td>2</td>\n",
       "      <td>2</td>\n",
       "      <td>0</td>\n",
       "      <td>0</td>\n",
       "      <td>...</td>\n",
       "      <td>4</td>\n",
       "      <td>4</td>\n",
       "      <td>-4.460442</td>\n",
       "      <td>29.811396</td>\n",
       "      <td>0</td>\n",
       "      <td>0</td>\n",
       "      <td>0</td>\n",
       "      <td>0</td>\n",
       "      <td>0</td>\n",
       "      <td>Kasulu</td>\n",
       "    </tr>\n",
       "    <tr>\n",
       "      <th>1</th>\n",
       "      <td>1258</td>\n",
       "      <td>40</td>\n",
       "      <td>1</td>\n",
       "      <td>1</td>\n",
       "      <td>3</td>\n",
       "      <td>5</td>\n",
       "      <td>1</td>\n",
       "      <td>1</td>\n",
       "      <td>1</td>\n",
       "      <td>0</td>\n",
       "      <td>...</td>\n",
       "      <td>1</td>\n",
       "      <td>4</td>\n",
       "      <td>-6.176438</td>\n",
       "      <td>39.244871</td>\n",
       "      <td>1</td>\n",
       "      <td>1</td>\n",
       "      <td>1</td>\n",
       "      <td>0</td>\n",
       "      <td>3</td>\n",
       "      <td>Zanzibar</td>\n",
       "    </tr>\n",
       "    <tr>\n",
       "      <th>2</th>\n",
       "      <td>331</td>\n",
       "      <td>18</td>\n",
       "      <td>2</td>\n",
       "      <td>4</td>\n",
       "      <td>6</td>\n",
       "      <td>3</td>\n",
       "      <td>2</td>\n",
       "      <td>1</td>\n",
       "      <td>0</td>\n",
       "      <td>0</td>\n",
       "      <td>...</td>\n",
       "      <td>1</td>\n",
       "      <td>1</td>\n",
       "      <td>-6.825702</td>\n",
       "      <td>37.652798</td>\n",
       "      <td>1</td>\n",
       "      <td>0</td>\n",
       "      <td>0</td>\n",
       "      <td>0</td>\n",
       "      <td>2</td>\n",
       "      <td>Morogoro Urban</td>\n",
       "    </tr>\n",
       "    <tr>\n",
       "      <th>3</th>\n",
       "      <td>6729</td>\n",
       "      <td>50</td>\n",
       "      <td>1</td>\n",
       "      <td>1</td>\n",
       "      <td>3</td>\n",
       "      <td>1</td>\n",
       "      <td>1</td>\n",
       "      <td>1</td>\n",
       "      <td>0</td>\n",
       "      <td>0</td>\n",
       "      <td>...</td>\n",
       "      <td>1</td>\n",
       "      <td>4</td>\n",
       "      <td>-3.372049</td>\n",
       "      <td>35.808307</td>\n",
       "      <td>1</td>\n",
       "      <td>0</td>\n",
       "      <td>1</td>\n",
       "      <td>0</td>\n",
       "      <td>3</td>\n",
       "      <td>Karatu</td>\n",
       "    </tr>\n",
       "    <tr>\n",
       "      <th>4</th>\n",
       "      <td>8671</td>\n",
       "      <td>34</td>\n",
       "      <td>1</td>\n",
       "      <td>1</td>\n",
       "      <td>1</td>\n",
       "      <td>1</td>\n",
       "      <td>2</td>\n",
       "      <td>1</td>\n",
       "      <td>0</td>\n",
       "      <td>1</td>\n",
       "      <td>...</td>\n",
       "      <td>1</td>\n",
       "      <td>4</td>\n",
       "      <td>-7.179645</td>\n",
       "      <td>31.039095</td>\n",
       "      <td>1</td>\n",
       "      <td>1</td>\n",
       "      <td>0</td>\n",
       "      <td>1</td>\n",
       "      <td>3</td>\n",
       "      <td>Mpanda</td>\n",
       "    </tr>\n",
       "  </tbody>\n",
       "</table>\n",
       "<p>5 rows × 38 columns</p>\n",
       "</div>"
      ],
      "text/plain": [
       "     ID  Q1  Q2  Q3  Q4  Q5  Q6  Q7  Q8_1  Q8_2  ...  Q18  Q19  Latitude  \\\n",
       "0  5086  98   2   3   1   1   2   2     0     0  ...    4    4 -4.460442   \n",
       "1  1258  40   1   1   3   5   1   1     1     0  ...    1    4 -6.176438   \n",
       "2   331  18   2   4   6   3   2   1     0     0  ...    1    1 -6.825702   \n",
       "3  6729  50   1   1   3   1   1   1     0     0  ...    1    4 -3.372049   \n",
       "4  8671  34   1   1   1   1   2   1     0     1  ...    1    4 -7.179645   \n",
       "\n",
       "   Longitude  mobile_money  savings  borrowing  insurance  \\\n",
       "0  29.811396             0        0          0          0   \n",
       "1  39.244871             1        1          1          0   \n",
       "2  37.652798             1        0          0          0   \n",
       "3  35.808307             1        0          1          0   \n",
       "4  31.039095             1        1          0          1   \n",
       "\n",
       "   mobile_money_classification        district  \n",
       "0                            0          Kasulu  \n",
       "1                            3        Zanzibar  \n",
       "2                            2  Morogoro Urban  \n",
       "3                            3          Karatu  \n",
       "4                            3          Mpanda  \n",
       "\n",
       "[5 rows x 38 columns]"
      ]
     },
     "execution_count": 63,
     "metadata": {},
     "output_type": "execute_result"
    }
   ],
   "source": [
    "train.head()"
   ]
  },
  {
   "cell_type": "code",
   "execution_count": 64,
   "metadata": {},
   "outputs": [],
   "source": [
    "test=pd.read_csv('disttest.csv')"
   ]
  },
  {
   "cell_type": "code",
   "execution_count": 65,
   "metadata": {},
   "outputs": [],
   "source": [
    "train['region']=trainpred['region']"
   ]
  },
  {
   "cell_type": "code",
   "execution_count": 66,
   "metadata": {},
   "outputs": [],
   "source": [
    "test['region']=testpred['region']"
   ]
  },
  {
   "cell_type": "code",
   "execution_count": 67,
   "metadata": {},
   "outputs": [],
   "source": [
    "train.to_csv(\"regiontrain.csv\",index= False)"
   ]
  },
  {
   "cell_type": "code",
   "execution_count": 68,
   "metadata": {},
   "outputs": [],
   "source": [
    "test.to_csv(\"regiontest.csv\",index= False)"
   ]
  }
 ],
 "metadata": {
  "kernelspec": {
   "display_name": "Python 3",
   "language": "python",
   "name": "python3"
  },
  "language_info": {
   "codemirror_mode": {
    "name": "ipython",
    "version": 3
   },
   "file_extension": ".py",
   "mimetype": "text/x-python",
   "name": "python",
   "nbconvert_exporter": "python",
   "pygments_lexer": "ipython3",
   "version": "3.7.3"
  }
 },
 "nbformat": 4,
 "nbformat_minor": 2
}
