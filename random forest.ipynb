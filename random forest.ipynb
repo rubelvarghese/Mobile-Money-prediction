{
 "cells": [
  {
   "cell_type": "code",
   "execution_count": 1,
   "metadata": {},
   "outputs": [],
   "source": [
    "import pandas as pd\n",
    "import numpy as np"
   ]
  },
  {
   "cell_type": "code",
   "execution_count": 2,
   "metadata": {},
   "outputs": [],
   "source": [
    "dat=pd.read_csv(\"training.csv\")"
   ]
  },
  {
   "cell_type": "code",
   "execution_count": 3,
   "metadata": {},
   "outputs": [
    {
     "data": {
      "text/html": [
       "<div>\n",
       "<style scoped>\n",
       "    .dataframe tbody tr th:only-of-type {\n",
       "        vertical-align: middle;\n",
       "    }\n",
       "\n",
       "    .dataframe tbody tr th {\n",
       "        vertical-align: top;\n",
       "    }\n",
       "\n",
       "    .dataframe thead th {\n",
       "        text-align: right;\n",
       "    }\n",
       "</style>\n",
       "<table border=\"1\" class=\"dataframe\">\n",
       "  <thead>\n",
       "    <tr style=\"text-align: right;\">\n",
       "      <th></th>\n",
       "      <th>ID</th>\n",
       "      <th>Q1</th>\n",
       "      <th>Q2</th>\n",
       "      <th>Q3</th>\n",
       "      <th>Q4</th>\n",
       "      <th>Q5</th>\n",
       "      <th>Q6</th>\n",
       "      <th>Q7</th>\n",
       "      <th>Q8_1</th>\n",
       "      <th>Q8_2</th>\n",
       "      <th>...</th>\n",
       "      <th>Q17</th>\n",
       "      <th>Q18</th>\n",
       "      <th>Q19</th>\n",
       "      <th>Latitude</th>\n",
       "      <th>Longitude</th>\n",
       "      <th>mobile_money</th>\n",
       "      <th>savings</th>\n",
       "      <th>borrowing</th>\n",
       "      <th>insurance</th>\n",
       "      <th>mobile_money_classification</th>\n",
       "    </tr>\n",
       "  </thead>\n",
       "  <tbody>\n",
       "    <tr>\n",
       "      <th>0</th>\n",
       "      <td>5086</td>\n",
       "      <td>98</td>\n",
       "      <td>2</td>\n",
       "      <td>3</td>\n",
       "      <td>1</td>\n",
       "      <td>1</td>\n",
       "      <td>2</td>\n",
       "      <td>2</td>\n",
       "      <td>0</td>\n",
       "      <td>0</td>\n",
       "      <td>...</td>\n",
       "      <td>-1</td>\n",
       "      <td>4</td>\n",
       "      <td>4</td>\n",
       "      <td>-4.460442</td>\n",
       "      <td>29.811396</td>\n",
       "      <td>0</td>\n",
       "      <td>0</td>\n",
       "      <td>0</td>\n",
       "      <td>0</td>\n",
       "      <td>0</td>\n",
       "    </tr>\n",
       "    <tr>\n",
       "      <th>1</th>\n",
       "      <td>1258</td>\n",
       "      <td>40</td>\n",
       "      <td>1</td>\n",
       "      <td>1</td>\n",
       "      <td>3</td>\n",
       "      <td>5</td>\n",
       "      <td>1</td>\n",
       "      <td>1</td>\n",
       "      <td>1</td>\n",
       "      <td>0</td>\n",
       "      <td>...</td>\n",
       "      <td>4</td>\n",
       "      <td>1</td>\n",
       "      <td>4</td>\n",
       "      <td>-6.176438</td>\n",
       "      <td>39.244871</td>\n",
       "      <td>1</td>\n",
       "      <td>1</td>\n",
       "      <td>1</td>\n",
       "      <td>0</td>\n",
       "      <td>3</td>\n",
       "    </tr>\n",
       "    <tr>\n",
       "      <th>2</th>\n",
       "      <td>331</td>\n",
       "      <td>18</td>\n",
       "      <td>2</td>\n",
       "      <td>4</td>\n",
       "      <td>6</td>\n",
       "      <td>3</td>\n",
       "      <td>2</td>\n",
       "      <td>1</td>\n",
       "      <td>0</td>\n",
       "      <td>0</td>\n",
       "      <td>...</td>\n",
       "      <td>-1</td>\n",
       "      <td>1</td>\n",
       "      <td>1</td>\n",
       "      <td>-6.825702</td>\n",
       "      <td>37.652798</td>\n",
       "      <td>1</td>\n",
       "      <td>0</td>\n",
       "      <td>0</td>\n",
       "      <td>0</td>\n",
       "      <td>2</td>\n",
       "    </tr>\n",
       "    <tr>\n",
       "      <th>3</th>\n",
       "      <td>6729</td>\n",
       "      <td>50</td>\n",
       "      <td>1</td>\n",
       "      <td>1</td>\n",
       "      <td>3</td>\n",
       "      <td>1</td>\n",
       "      <td>1</td>\n",
       "      <td>1</td>\n",
       "      <td>0</td>\n",
       "      <td>0</td>\n",
       "      <td>...</td>\n",
       "      <td>-1</td>\n",
       "      <td>1</td>\n",
       "      <td>4</td>\n",
       "      <td>-3.372049</td>\n",
       "      <td>35.808307</td>\n",
       "      <td>1</td>\n",
       "      <td>0</td>\n",
       "      <td>1</td>\n",
       "      <td>0</td>\n",
       "      <td>3</td>\n",
       "    </tr>\n",
       "    <tr>\n",
       "      <th>4</th>\n",
       "      <td>8671</td>\n",
       "      <td>34</td>\n",
       "      <td>1</td>\n",
       "      <td>1</td>\n",
       "      <td>1</td>\n",
       "      <td>1</td>\n",
       "      <td>2</td>\n",
       "      <td>1</td>\n",
       "      <td>0</td>\n",
       "      <td>1</td>\n",
       "      <td>...</td>\n",
       "      <td>-1</td>\n",
       "      <td>1</td>\n",
       "      <td>4</td>\n",
       "      <td>-7.179645</td>\n",
       "      <td>31.039095</td>\n",
       "      <td>1</td>\n",
       "      <td>1</td>\n",
       "      <td>0</td>\n",
       "      <td>1</td>\n",
       "      <td>3</td>\n",
       "    </tr>\n",
       "  </tbody>\n",
       "</table>\n",
       "<p>5 rows × 37 columns</p>\n",
       "</div>"
      ],
      "text/plain": [
       "     ID  Q1  Q2  Q3  Q4  Q5  Q6  Q7  Q8_1  Q8_2  ...  Q17  Q18  Q19  Latitude  \\\n",
       "0  5086  98   2   3   1   1   2   2     0     0  ...   -1    4    4 -4.460442   \n",
       "1  1258  40   1   1   3   5   1   1     1     0  ...    4    1    4 -6.176438   \n",
       "2   331  18   2   4   6   3   2   1     0     0  ...   -1    1    1 -6.825702   \n",
       "3  6729  50   1   1   3   1   1   1     0     0  ...   -1    1    4 -3.372049   \n",
       "4  8671  34   1   1   1   1   2   1     0     1  ...   -1    1    4 -7.179645   \n",
       "\n",
       "   Longitude  mobile_money  savings  borrowing  insurance  \\\n",
       "0  29.811396             0        0          0          0   \n",
       "1  39.244871             1        1          1          0   \n",
       "2  37.652798             1        0          0          0   \n",
       "3  35.808307             1        0          1          0   \n",
       "4  31.039095             1        1          0          1   \n",
       "\n",
       "   mobile_money_classification  \n",
       "0                            0  \n",
       "1                            3  \n",
       "2                            2  \n",
       "3                            3  \n",
       "4                            3  \n",
       "\n",
       "[5 rows x 37 columns]"
      ]
     },
     "execution_count": 3,
     "metadata": {},
     "output_type": "execute_result"
    }
   ],
   "source": [
    "dat.head()"
   ]
  },
  {
   "cell_type": "code",
   "execution_count": 5,
   "metadata": {},
   "outputs": [
    {
     "data": {
      "text/plain": [
       "ID                             0\n",
       "Q1                             0\n",
       "Q2                             0\n",
       "Q3                             0\n",
       "Q4                             0\n",
       "Q5                             0\n",
       "Q6                             0\n",
       "Q7                             0\n",
       "Q8_1                           0\n",
       "Q8_2                           0\n",
       "Q8_3                           0\n",
       "Q8_4                           0\n",
       "Q8_5                           0\n",
       "Q8_6                           0\n",
       "Q8_7                           0\n",
       "Q8_8                           0\n",
       "Q8_9                           0\n",
       "Q8_10                          0\n",
       "Q8_11                          0\n",
       "Q9                             0\n",
       "Q10                            0\n",
       "Q11                            0\n",
       "Q12                            0\n",
       "Q13                            0\n",
       "Q14                            0\n",
       "Q15                            0\n",
       "Q16                            0\n",
       "Q17                            0\n",
       "Q18                            0\n",
       "Q19                            0\n",
       "Latitude                       0\n",
       "Longitude                      0\n",
       "mobile_money                   0\n",
       "savings                        0\n",
       "borrowing                      0\n",
       "insurance                      0\n",
       "mobile_money_classification    0\n",
       "dtype: int64"
      ]
     },
     "execution_count": 5,
     "metadata": {},
     "output_type": "execute_result"
    }
   ],
   "source": [
    "dat.isnull().sum()"
   ]
  },
  {
   "cell_type": "code",
   "execution_count": 6,
   "metadata": {},
   "outputs": [
    {
     "name": "stdout",
     "output_type": "stream",
     "text": [
      "<class 'pandas.core.frame.DataFrame'>\n",
      "RangeIndex: 7094 entries, 0 to 7093\n",
      "Data columns (total 37 columns):\n",
      "ID                             7094 non-null int64\n",
      "Q1                             7094 non-null int64\n",
      "Q2                             7094 non-null int64\n",
      "Q3                             7094 non-null int64\n",
      "Q4                             7094 non-null int64\n",
      "Q5                             7094 non-null int64\n",
      "Q6                             7094 non-null int64\n",
      "Q7                             7094 non-null int64\n",
      "Q8_1                           7094 non-null int64\n",
      "Q8_2                           7094 non-null int64\n",
      "Q8_3                           7094 non-null int64\n",
      "Q8_4                           7094 non-null int64\n",
      "Q8_5                           7094 non-null int64\n",
      "Q8_6                           7094 non-null int64\n",
      "Q8_7                           7094 non-null int64\n",
      "Q8_8                           7094 non-null int64\n",
      "Q8_9                           7094 non-null int64\n",
      "Q8_10                          7094 non-null int64\n",
      "Q8_11                          7094 non-null int64\n",
      "Q9                             7094 non-null int64\n",
      "Q10                            7094 non-null int64\n",
      "Q11                            7094 non-null int64\n",
      "Q12                            7094 non-null int64\n",
      "Q13                            7094 non-null int64\n",
      "Q14                            7094 non-null int64\n",
      "Q15                            7094 non-null int64\n",
      "Q16                            7094 non-null int64\n",
      "Q17                            7094 non-null int64\n",
      "Q18                            7094 non-null int64\n",
      "Q19                            7094 non-null int64\n",
      "Latitude                       7094 non-null float64\n",
      "Longitude                      7094 non-null float64\n",
      "mobile_money                   7094 non-null int64\n",
      "savings                        7094 non-null int64\n",
      "borrowing                      7094 non-null int64\n",
      "insurance                      7094 non-null int64\n",
      "mobile_money_classification    7094 non-null int64\n",
      "dtypes: float64(2), int64(35)\n",
      "memory usage: 2.0 MB\n"
     ]
    }
   ],
   "source": [
    "dat.info()"
   ]
  },
  {
   "cell_type": "code",
   "execution_count": 7,
   "metadata": {},
   "outputs": [
    {
     "data": {
      "text/plain": [
       "3    3126\n",
       "1    1778\n",
       "0    1386\n",
       "2     804\n",
       "Name: mobile_money_classification, dtype: int64"
      ]
     },
     "execution_count": 7,
     "metadata": {},
     "output_type": "execute_result"
    }
   ],
   "source": [
    "dat['mobile_money_classification'].value_counts()"
   ]
  },
  {
   "cell_type": "code",
   "execution_count": 9,
   "metadata": {},
   "outputs": [],
   "source": [
    "feature1=dat.drop(['ID','Latitude','Longitude','mobile_money_classification'],1)\n",
    "target=dat['mobile_money_classification']"
   ]
  },
  {
   "cell_type": "code",
   "execution_count": 12,
   "metadata": {},
   "outputs": [
    {
     "data": {
      "text/plain": [
       "0    0\n",
       "1    3\n",
       "2    2\n",
       "3    3\n",
       "4    3\n",
       "Name: mobile_money_classification, dtype: int64"
      ]
     },
     "execution_count": 12,
     "metadata": {},
     "output_type": "execute_result"
    }
   ],
   "source": [
    "target.head()"
   ]
  },
  {
   "cell_type": "code",
   "execution_count": 13,
   "metadata": {},
   "outputs": [],
   "source": [
    "from sklearn.preprocessing import StandardScaler\n",
    "sc=StandardScaler()"
   ]
  },
  {
   "cell_type": "code",
   "execution_count": 14,
   "metadata": {},
   "outputs": [
    {
     "name": "stderr",
     "output_type": "stream",
     "text": [
      "C:\\Users\\dell\\Anaconda3\\lib\\site-packages\\sklearn\\preprocessing\\data.py:645: DataConversionWarning: Data with input dtype int64 were all converted to float64 by StandardScaler.\n",
      "  return self.partial_fit(X, y)\n",
      "C:\\Users\\dell\\Anaconda3\\lib\\site-packages\\sklearn\\base.py:464: DataConversionWarning: Data with input dtype int64 were all converted to float64 by StandardScaler.\n",
      "  return self.fit(X, **fit_params).transform(X)\n"
     ]
    }
   ],
   "source": [
    "feature2=sc.fit_transform(feature1)"
   ]
  },
  {
   "cell_type": "code",
   "execution_count": 15,
   "metadata": {},
   "outputs": [],
   "source": [
    "feature2=pd.DataFrame(feature2,columns=feature1.columns)"
   ]
  },
  {
   "cell_type": "code",
   "execution_count": 16,
   "metadata": {},
   "outputs": [
    {
     "data": {
      "text/html": [
       "<div>\n",
       "<style scoped>\n",
       "    .dataframe tbody tr th:only-of-type {\n",
       "        vertical-align: middle;\n",
       "    }\n",
       "\n",
       "    .dataframe tbody tr th {\n",
       "        vertical-align: top;\n",
       "    }\n",
       "\n",
       "    .dataframe thead th {\n",
       "        text-align: right;\n",
       "    }\n",
       "</style>\n",
       "<table border=\"1\" class=\"dataframe\">\n",
       "  <thead>\n",
       "    <tr style=\"text-align: right;\">\n",
       "      <th></th>\n",
       "      <th>Q1</th>\n",
       "      <th>Q2</th>\n",
       "      <th>Q3</th>\n",
       "      <th>Q4</th>\n",
       "      <th>Q5</th>\n",
       "      <th>Q6</th>\n",
       "      <th>Q7</th>\n",
       "      <th>Q8_1</th>\n",
       "      <th>Q8_2</th>\n",
       "      <th>Q8_3</th>\n",
       "      <th>...</th>\n",
       "      <th>Q14</th>\n",
       "      <th>Q15</th>\n",
       "      <th>Q16</th>\n",
       "      <th>Q17</th>\n",
       "      <th>Q18</th>\n",
       "      <th>Q19</th>\n",
       "      <th>mobile_money</th>\n",
       "      <th>savings</th>\n",
       "      <th>borrowing</th>\n",
       "      <th>insurance</th>\n",
       "    </tr>\n",
       "  </thead>\n",
       "  <tbody>\n",
       "    <tr>\n",
       "      <th>0</th>\n",
       "      <td>3.659330</td>\n",
       "      <td>0.886568</td>\n",
       "      <td>1.040767</td>\n",
       "      <td>-1.322521</td>\n",
       "      <td>-1.009625</td>\n",
       "      <td>0.435511</td>\n",
       "      <td>1.230012</td>\n",
       "      <td>-0.257460</td>\n",
       "      <td>-1.305184</td>\n",
       "      <td>-0.248311</td>\n",
       "      <td>...</td>\n",
       "      <td>0.778503</td>\n",
       "      <td>-0.727584</td>\n",
       "      <td>-0.601951</td>\n",
       "      <td>-0.381323</td>\n",
       "      <td>1.583566</td>\n",
       "      <td>0.63496</td>\n",
       "      <td>-1.114495</td>\n",
       "      <td>-0.925780</td>\n",
       "      <td>-0.873705</td>\n",
       "      <td>-0.422149</td>\n",
       "    </tr>\n",
       "    <tr>\n",
       "      <th>1</th>\n",
       "      <td>0.107801</td>\n",
       "      <td>-1.127946</td>\n",
       "      <td>-0.675857</td>\n",
       "      <td>-0.038552</td>\n",
       "      <td>1.597684</td>\n",
       "      <td>-2.296154</td>\n",
       "      <td>-0.813000</td>\n",
       "      <td>3.884092</td>\n",
       "      <td>-1.305184</td>\n",
       "      <td>-0.248311</td>\n",
       "      <td>...</td>\n",
       "      <td>-1.284516</td>\n",
       "      <td>1.751316</td>\n",
       "      <td>1.295934</td>\n",
       "      <td>2.974890</td>\n",
       "      <td>-0.636556</td>\n",
       "      <td>0.63496</td>\n",
       "      <td>0.897268</td>\n",
       "      <td>1.080171</td>\n",
       "      <td>1.144551</td>\n",
       "      <td>-0.422149</td>\n",
       "    </tr>\n",
       "    <tr>\n",
       "      <th>2</th>\n",
       "      <td>-1.239330</td>\n",
       "      <td>0.886568</td>\n",
       "      <td>1.899079</td>\n",
       "      <td>1.887402</td>\n",
       "      <td>0.294030</td>\n",
       "      <td>0.435511</td>\n",
       "      <td>-0.813000</td>\n",
       "      <td>-0.257460</td>\n",
       "      <td>-1.305184</td>\n",
       "      <td>-0.248311</td>\n",
       "      <td>...</td>\n",
       "      <td>0.778503</td>\n",
       "      <td>-0.727584</td>\n",
       "      <td>-0.601951</td>\n",
       "      <td>-0.381323</td>\n",
       "      <td>-0.636556</td>\n",
       "      <td>-1.64191</td>\n",
       "      <td>0.897268</td>\n",
       "      <td>-0.925780</td>\n",
       "      <td>-0.873705</td>\n",
       "      <td>-0.422149</td>\n",
       "    </tr>\n",
       "    <tr>\n",
       "      <th>3</th>\n",
       "      <td>0.720134</td>\n",
       "      <td>-1.127946</td>\n",
       "      <td>-0.675857</td>\n",
       "      <td>-0.038552</td>\n",
       "      <td>-1.009625</td>\n",
       "      <td>-2.296154</td>\n",
       "      <td>-0.813000</td>\n",
       "      <td>-0.257460</td>\n",
       "      <td>-1.305184</td>\n",
       "      <td>-0.248311</td>\n",
       "      <td>...</td>\n",
       "      <td>0.778503</td>\n",
       "      <td>-0.727584</td>\n",
       "      <td>1.295934</td>\n",
       "      <td>-0.381323</td>\n",
       "      <td>-0.636556</td>\n",
       "      <td>0.63496</td>\n",
       "      <td>0.897268</td>\n",
       "      <td>-0.925780</td>\n",
       "      <td>1.144551</td>\n",
       "      <td>-0.422149</td>\n",
       "    </tr>\n",
       "    <tr>\n",
       "      <th>4</th>\n",
       "      <td>-0.259598</td>\n",
       "      <td>-1.127946</td>\n",
       "      <td>-0.675857</td>\n",
       "      <td>-1.322521</td>\n",
       "      <td>-1.009625</td>\n",
       "      <td>0.435511</td>\n",
       "      <td>-0.813000</td>\n",
       "      <td>-0.257460</td>\n",
       "      <td>0.766175</td>\n",
       "      <td>-0.248311</td>\n",
       "      <td>...</td>\n",
       "      <td>-1.284516</td>\n",
       "      <td>0.098716</td>\n",
       "      <td>-0.601951</td>\n",
       "      <td>-0.381323</td>\n",
       "      <td>-0.636556</td>\n",
       "      <td>0.63496</td>\n",
       "      <td>0.897268</td>\n",
       "      <td>1.080171</td>\n",
       "      <td>-0.873705</td>\n",
       "      <td>2.368833</td>\n",
       "    </tr>\n",
       "  </tbody>\n",
       "</table>\n",
       "<p>5 rows × 33 columns</p>\n",
       "</div>"
      ],
      "text/plain": [
       "         Q1        Q2        Q3        Q4        Q5        Q6        Q7  \\\n",
       "0  3.659330  0.886568  1.040767 -1.322521 -1.009625  0.435511  1.230012   \n",
       "1  0.107801 -1.127946 -0.675857 -0.038552  1.597684 -2.296154 -0.813000   \n",
       "2 -1.239330  0.886568  1.899079  1.887402  0.294030  0.435511 -0.813000   \n",
       "3  0.720134 -1.127946 -0.675857 -0.038552 -1.009625 -2.296154 -0.813000   \n",
       "4 -0.259598 -1.127946 -0.675857 -1.322521 -1.009625  0.435511 -0.813000   \n",
       "\n",
       "       Q8_1      Q8_2      Q8_3  ...       Q14       Q15       Q16       Q17  \\\n",
       "0 -0.257460 -1.305184 -0.248311  ...  0.778503 -0.727584 -0.601951 -0.381323   \n",
       "1  3.884092 -1.305184 -0.248311  ... -1.284516  1.751316  1.295934  2.974890   \n",
       "2 -0.257460 -1.305184 -0.248311  ...  0.778503 -0.727584 -0.601951 -0.381323   \n",
       "3 -0.257460 -1.305184 -0.248311  ...  0.778503 -0.727584  1.295934 -0.381323   \n",
       "4 -0.257460  0.766175 -0.248311  ... -1.284516  0.098716 -0.601951 -0.381323   \n",
       "\n",
       "        Q18      Q19  mobile_money   savings  borrowing  insurance  \n",
       "0  1.583566  0.63496     -1.114495 -0.925780  -0.873705  -0.422149  \n",
       "1 -0.636556  0.63496      0.897268  1.080171   1.144551  -0.422149  \n",
       "2 -0.636556 -1.64191      0.897268 -0.925780  -0.873705  -0.422149  \n",
       "3 -0.636556  0.63496      0.897268 -0.925780   1.144551  -0.422149  \n",
       "4 -0.636556  0.63496      0.897268  1.080171  -0.873705   2.368833  \n",
       "\n",
       "[5 rows x 33 columns]"
      ]
     },
     "execution_count": 16,
     "metadata": {},
     "output_type": "execute_result"
    }
   ],
   "source": [
    "feature2.head()"
   ]
  },
  {
   "cell_type": "code",
   "execution_count": 17,
   "metadata": {},
   "outputs": [
    {
     "name": "stdout",
     "output_type": "stream",
     "text": [
      "<class 'pandas.core.frame.DataFrame'>\n",
      "RangeIndex: 7094 entries, 0 to 7093\n",
      "Data columns (total 33 columns):\n",
      "Q1              7094 non-null float64\n",
      "Q2              7094 non-null float64\n",
      "Q3              7094 non-null float64\n",
      "Q4              7094 non-null float64\n",
      "Q5              7094 non-null float64\n",
      "Q6              7094 non-null float64\n",
      "Q7              7094 non-null float64\n",
      "Q8_1            7094 non-null float64\n",
      "Q8_2            7094 non-null float64\n",
      "Q8_3            7094 non-null float64\n",
      "Q8_4            7094 non-null float64\n",
      "Q8_5            7094 non-null float64\n",
      "Q8_6            7094 non-null float64\n",
      "Q8_7            7094 non-null float64\n",
      "Q8_8            7094 non-null float64\n",
      "Q8_9            7094 non-null float64\n",
      "Q8_10           7094 non-null float64\n",
      "Q8_11           7094 non-null float64\n",
      "Q9              7094 non-null float64\n",
      "Q10             7094 non-null float64\n",
      "Q11             7094 non-null float64\n",
      "Q12             7094 non-null float64\n",
      "Q13             7094 non-null float64\n",
      "Q14             7094 non-null float64\n",
      "Q15             7094 non-null float64\n",
      "Q16             7094 non-null float64\n",
      "Q17             7094 non-null float64\n",
      "Q18             7094 non-null float64\n",
      "Q19             7094 non-null float64\n",
      "mobile_money    7094 non-null float64\n",
      "savings         7094 non-null float64\n",
      "borrowing       7094 non-null float64\n",
      "insurance       7094 non-null float64\n",
      "dtypes: float64(33)\n",
      "memory usage: 1.8 MB\n"
     ]
    }
   ],
   "source": [
    "feature2.info()"
   ]
  },
  {
   "cell_type": "code",
   "execution_count": 18,
   "metadata": {},
   "outputs": [
    {
     "name": "stderr",
     "output_type": "stream",
     "text": [
      "C:\\Users\\dell\\Anaconda3\\lib\\site-packages\\sklearn\\model_selection\\_split.py:2179: FutureWarning: From version 0.21, test_size will always complement train_size unless both are specified.\n",
      "  FutureWarning)\n"
     ]
    }
   ],
   "source": [
    "from sklearn.model_selection import train_test_split\n",
    "x_train,x_test,y_train,y_test=train_test_split(feature2,target,train_size=0.70,random_state=20)"
   ]
  },
  {
   "cell_type": "code",
   "execution_count": 19,
   "metadata": {},
   "outputs": [
    {
     "name": "stdout",
     "output_type": "stream",
     "text": [
      "<class 'pandas.core.frame.DataFrame'>\n",
      "Int64Index: 4965 entries, 2780 to 2522\n",
      "Data columns (total 33 columns):\n",
      "Q1              4965 non-null float64\n",
      "Q2              4965 non-null float64\n",
      "Q3              4965 non-null float64\n",
      "Q4              4965 non-null float64\n",
      "Q5              4965 non-null float64\n",
      "Q6              4965 non-null float64\n",
      "Q7              4965 non-null float64\n",
      "Q8_1            4965 non-null float64\n",
      "Q8_2            4965 non-null float64\n",
      "Q8_3            4965 non-null float64\n",
      "Q8_4            4965 non-null float64\n",
      "Q8_5            4965 non-null float64\n",
      "Q8_6            4965 non-null float64\n",
      "Q8_7            4965 non-null float64\n",
      "Q8_8            4965 non-null float64\n",
      "Q8_9            4965 non-null float64\n",
      "Q8_10           4965 non-null float64\n",
      "Q8_11           4965 non-null float64\n",
      "Q9              4965 non-null float64\n",
      "Q10             4965 non-null float64\n",
      "Q11             4965 non-null float64\n",
      "Q12             4965 non-null float64\n",
      "Q13             4965 non-null float64\n",
      "Q14             4965 non-null float64\n",
      "Q15             4965 non-null float64\n",
      "Q16             4965 non-null float64\n",
      "Q17             4965 non-null float64\n",
      "Q18             4965 non-null float64\n",
      "Q19             4965 non-null float64\n",
      "mobile_money    4965 non-null float64\n",
      "savings         4965 non-null float64\n",
      "borrowing       4965 non-null float64\n",
      "insurance       4965 non-null float64\n",
      "dtypes: float64(33)\n",
      "memory usage: 1.3 MB\n"
     ]
    }
   ],
   "source": [
    "x_train.info()"
   ]
  },
  {
   "cell_type": "code",
   "execution_count": 20,
   "metadata": {},
   "outputs": [],
   "source": [
    "from sklearn.ensemble import RandomForestClassifier\n",
    "clf=RandomForestClassifier(n_estimators=10)\n"
   ]
  },
  {
   "cell_type": "code",
   "execution_count": 21,
   "metadata": {},
   "outputs": [
    {
     "data": {
      "text/plain": [
       "RandomForestClassifier(bootstrap=True, class_weight=None, criterion='gini',\n",
       "            max_depth=None, max_features='auto', max_leaf_nodes=None,\n",
       "            min_impurity_decrease=0.0, min_impurity_split=None,\n",
       "            min_samples_leaf=1, min_samples_split=2,\n",
       "            min_weight_fraction_leaf=0.0, n_estimators=10, n_jobs=None,\n",
       "            oob_score=False, random_state=None, verbose=0,\n",
       "            warm_start=False)"
      ]
     },
     "execution_count": 21,
     "metadata": {},
     "output_type": "execute_result"
    }
   ],
   "source": [
    "clf.fit(x_train,y_train)"
   ]
  },
  {
   "cell_type": "code",
   "execution_count": 23,
   "metadata": {},
   "outputs": [],
   "source": [
    "y_pred=clf.predict(x_test)"
   ]
  },
  {
   "cell_type": "code",
   "execution_count": 24,
   "metadata": {},
   "outputs": [
    {
     "name": "stdout",
     "output_type": "stream",
     "text": [
      "Accuracy: 0.994833255049319\n"
     ]
    }
   ],
   "source": [
    "from sklearn import metrics\n",
    "print(\"Accuracy:\",metrics.accuracy_score(y_test, y_pred))"
   ]
  },
  {
   "cell_type": "code",
   "execution_count": 25,
   "metadata": {},
   "outputs": [
    {
     "data": {
      "text/plain": [
       "array([2, 1, 3, ..., 2, 2, 3], dtype=int64)"
      ]
     },
     "execution_count": 25,
     "metadata": {},
     "output_type": "execute_result"
    }
   ],
   "source": [
    "y_pred"
   ]
  },
  {
   "cell_type": "code",
   "execution_count": 26,
   "metadata": {},
   "outputs": [
    {
     "data": {
      "text/plain": [
       "1673    2\n",
       "5260    1\n",
       "5453    3\n",
       "2153    1\n",
       "2078    3\n",
       "4887    0\n",
       "1557    1\n",
       "1457    3\n",
       "680     3\n",
       "5558    1\n",
       "4489    0\n",
       "260     0\n",
       "4941    3\n",
       "5541    0\n",
       "4065    3\n",
       "5168    0\n",
       "996     3\n",
       "4632    2\n",
       "4494    3\n",
       "3219    3\n",
       "3522    3\n",
       "5968    0\n",
       "1935    3\n",
       "97      1\n",
       "902     1\n",
       "4346    2\n",
       "5816    3\n",
       "2695    3\n",
       "5940    3\n",
       "442     1\n",
       "       ..\n",
       "5134    2\n",
       "2906    3\n",
       "1622    3\n",
       "1303    1\n",
       "6328    3\n",
       "1492    3\n",
       "1189    1\n",
       "2771    3\n",
       "2036    2\n",
       "4753    0\n",
       "1209    3\n",
       "2675    0\n",
       "2583    3\n",
       "1520    3\n",
       "2271    3\n",
       "6212    3\n",
       "4398    1\n",
       "1857    3\n",
       "6340    1\n",
       "4709    1\n",
       "3327    1\n",
       "6496    3\n",
       "4749    1\n",
       "6751    1\n",
       "1101    1\n",
       "5767    1\n",
       "2450    2\n",
       "4280    2\n",
       "1957    2\n",
       "1630    3\n",
       "Name: mobile_money_classification, Length: 2129, dtype: int64"
      ]
     },
     "execution_count": 26,
     "metadata": {},
     "output_type": "execute_result"
    }
   ],
   "source": [
    "y_test"
   ]
  },
  {
   "cell_type": "code",
   "execution_count": 27,
   "metadata": {},
   "outputs": [],
   "source": [
    "#feature selection\n",
    "import sklearn.feature_selection\n",
    "select=sklearn.feature_selection.SelectKBest(k=20)\n",
    "selected_features=select.fit(x_train,y_train)\n",
    "indices_selected=selected_features.get_support(indices=True)\n",
    "columns_selected=[feature2.columns[i] for i in indices_selected]"
   ]
  },
  {
   "cell_type": "code",
   "execution_count": 28,
   "metadata": {},
   "outputs": [
    {
     "data": {
      "text/plain": [
       "['Q1',\n",
       " 'Q2',\n",
       " 'Q4',\n",
       " 'Q7',\n",
       " 'Q8_1',\n",
       " 'Q8_2',\n",
       " 'Q8_3',\n",
       " 'Q8_10',\n",
       " 'Q9',\n",
       " 'Q12',\n",
       " 'Q13',\n",
       " 'Q14',\n",
       " 'Q15',\n",
       " 'Q16',\n",
       " 'Q17',\n",
       " 'Q18',\n",
       " 'Q19',\n",
       " 'savings',\n",
       " 'borrowing',\n",
       " 'insurance']"
      ]
     },
     "execution_count": 28,
     "metadata": {},
     "output_type": "execute_result"
    }
   ],
   "source": [
    "columns_selected"
   ]
  },
  {
   "cell_type": "code",
   "execution_count": 29,
   "metadata": {},
   "outputs": [],
   "source": [
    "x_train_selected=x_train[columns_selected]\n",
    "x_test_selected=x_test[columns_selected]"
   ]
  },
  {
   "cell_type": "code",
   "execution_count": 30,
   "metadata": {},
   "outputs": [
    {
     "data": {
      "text/plain": [
       "RandomForestClassifier(bootstrap=True, class_weight=None, criterion='gini',\n",
       "            max_depth=None, max_features='auto', max_leaf_nodes=None,\n",
       "            min_impurity_decrease=0.0, min_impurity_split=None,\n",
       "            min_samples_leaf=1, min_samples_split=2,\n",
       "            min_weight_fraction_leaf=0.0, n_estimators=10, n_jobs=None,\n",
       "            oob_score=False, random_state=None, verbose=0,\n",
       "            warm_start=False)"
      ]
     },
     "execution_count": 30,
     "metadata": {},
     "output_type": "execute_result"
    }
   ],
   "source": [
    "#new model after feature selection\n",
    "clf.fit(x_train_selected,y_train)"
   ]
  },
  {
   "cell_type": "code",
   "execution_count": 31,
   "metadata": {},
   "outputs": [
    {
     "name": "stdout",
     "output_type": "stream",
     "text": [
      "Accuracy: 0.9041803663691874\n"
     ]
    }
   ],
   "source": [
    "y_pred2=clf.predict(x_test_selected)\n",
    "print(\"Accuracy:\",metrics.accuracy_score(y_test, y_pred2))"
   ]
  }
 ],
 "metadata": {
  "kernelspec": {
   "display_name": "Python 3",
   "language": "python",
   "name": "python3"
  },
  "language_info": {
   "codemirror_mode": {
    "name": "ipython",
    "version": 3
   },
   "file_extension": ".py",
   "mimetype": "text/x-python",
   "name": "python",
   "nbconvert_exporter": "python",
   "pygments_lexer": "ipython3",
   "version": "3.7.3"
  }
 },
 "nbformat": 4,
 "nbformat_minor": 2
}
